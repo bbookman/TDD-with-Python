{
  "nbformat": 4,
  "nbformat_minor": 0,
  "metadata": {
    "colab": {
      "name": "Untitled0.ipynb",
      "version": "0.3.2",
      "provenance": [],
      "include_colab_link": true
    },
    "kernelspec": {
      "name": "python3",
      "display_name": "Python 3"
    }
  },
  "cells": [
    {
      "cell_type": "markdown",
      "metadata": {
        "id": "view-in-github",
        "colab_type": "text"
      },
      "source": [
        "<a href=\"https://colab.research.google.com/github/bbookman/TDD-with-Python/blob/master/Intro.ipynb\" target=\"_parent\"><img src=\"https://colab.research.google.com/assets/colab-badge.svg\" alt=\"Open In Colab\"/></a>"
      ]
    },
    {
      "metadata": {
        "id": "JJLI5sCl1li0",
        "colab_type": "text"
      },
      "cell_type": "markdown",
      "source": [
        ""
      ]
    },
    {
      "metadata": {
        "id": "JgtC1D1d1o2a",
        "colab_type": "text"
      },
      "cell_type": "markdown",
      "source": [
        "# Test Driven Develpoment with Python\n",
        "## What is Test Driven Development (TDD)?\n",
        "Before TDD, most softtware was created using a Software Development Lifecycle (SDLC) model with the following general steps:\n",
        "\n",
        "### Standard Software Development Lifecycle\n",
        "1.  Product definition / Product Requiremets Document (PRD)\n",
        "2.  Engineering Specification (spec)\n",
        "3.  Coding\n",
        "4.  Testing\n",
        "5.  Release\n",
        "\n",
        "This is an oversimplification, however the notion that testing is done after code is written is the key traditional concept.\n",
        "\n",
        "\n",
        "###The TDD difference\n",
        "As software development has evolved, and it has become more and more critical to deliver solutions to the marketplace at a rapid pace, the traditional model has been replaced by [Agile processes](https://www.tutorialspoint.com/sdlc/sdlc_agile_model.htm).\n",
        "\n",
        "With TDD, the tests are created prior to any code being written.  It seems odd because you might think \"How can you write a test for something that does not exist\".  Strangely enough, this is the exact point of TDD.\n",
        "\n",
        "## Tests are first class citizens and define the outcome\n",
        "In TDD\n"
      ]
    }
  ]
}