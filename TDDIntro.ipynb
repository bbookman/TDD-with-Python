{
  "nbformat": 4,
  "nbformat_minor": 0,
  "metadata": {
    "colab": {
      "name": "TDDIntro.ipynb",
      "version": "0.3.2",
      "provenance": [],
      "include_colab_link": true
    },
    "kernelspec": {
      "name": "python3",
      "display_name": "Python 3"
    }
  },
  "cells": [
    {
      "cell_type": "markdown",
      "metadata": {
        "id": "view-in-github",
        "colab_type": "text"
      },
      "source": [
        "<a href=\"https://colab.research.google.com/github/bbookman/TDD-with-Python/blob/master/TDDIntro.ipynb\" target=\"_parent\"><img src=\"https://colab.research.google.com/assets/colab-badge.svg\" alt=\"Open In Colab\"/></a>"
      ]
    },
    {
      "metadata": {
        "id": "JJLI5sCl1li0",
        "colab_type": "text"
      },
      "cell_type": "markdown",
      "source": [
        ""
      ]
    },
    {
      "metadata": {
        "id": "JgtC1D1d1o2a",
        "colab_type": "text"
      },
      "cell_type": "markdown",
      "source": [
        "# Test Driven Develpoment with Python\n",
        "## What is Test Driven Development (TDD)?\n",
        "Before TDD, most softtware was created using a Software Development Lifecycle (SDLC) model with the following general steps:\n",
        "\n",
        "### Standard Software Development Lifecycle\n",
        "1.  Product definition / Product Requiremets Document (PRD)\n",
        "2.  Engineering Specification (spec)\n",
        "3.  Coding\n",
        "4.  Testing\n",
        "5.  Release\n",
        "\n",
        "This is an oversimplification, however the notion that testing is done after code is written is the key traditional concept.\n",
        "\n",
        "\n",
        "###The TDD difference\n",
        "As software development has evolved, and it has become more and more critical to deliver solutions to the marketplace at a rapid pace, the traditional model has been replaced by [Agile processes](https://www.tutorialspoint.com/sdlc/sdlc_agile_model.htm).\n",
        "\n",
        "With TDD, the tests are created prior to any code being written.  It seems odd because you might think \"How can you write a test for something that does not exist\".  Strangely enough, this is the exact point of TDD.\n",
        "\n",
        "## Tests are first class citizens and define the outcome\n",
        "In TDD defining a test in turn defines exactly what the software is supposed to do.  Tests are part of the excersize in creating engineering specification and product requirements.\n",
        "### The TDD advantage\n",
        "TDD allows software development cycles to focus on expected outcomes.  The process of defining tests that describe how the software is supposed to work brings teams together with a goal of keeping user experience and business outcomes front and center.\n",
        "\n",
        "Of course, having tests before you have code means testing the code once it is ready is more effective and efficient.\n",
        "## The TDD cycle\n",
        "![tdd cycle image](http://isd-soft.com/wp-content/uploads/2017/11/An_Introduction_to_Behavior-Driven-Development_1.png)\n",
        "### Red - write a failing test\n",
        "It seems counter intuitive at first, however with time the idea of writing tests for the explicate purpose of failing will become natural and the purpose will become clear.\n",
        "\n",
        "#### Example Shopping Cart\n",
        "Let's say you want a program for ecommerce where a user can shop for items.  A key piece is the shopping cart.\n",
        "\n",
        "**Requirement 1:  Define a shopping cart class**\n",
        "For the above requirement, we first write a failing test\n"
      ]
    },
    {
      "metadata": {
        "id": "N50PnDOP99ek",
        "colab_type": "code",
        "colab": {}
      },
      "cell_type": "code",
      "source": [
        "def test_shopping_cart_class_exists():\n",
        "  cart = ShoppingCart()"
      ],
      "execution_count": 0,
      "outputs": []
    }
  ]
}